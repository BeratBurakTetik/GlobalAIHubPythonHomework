{
 "cells": [
  {
   "cell_type": "code",
   "execution_count": 1,
   "metadata": {},
   "outputs": [
    {
     "name": "stdin",
     "output_type": "stream",
     "text": [
      "Enter your first name: Berat\n",
      "Enter your last name: Tetik\n",
      "Enter your age: 19\n",
      "Enter your birth year: 390\n"
     ]
    },
    {
     "name": "stdout",
     "output_type": "stream",
     "text": [
      "Berat\n",
      "Tetik\n",
      "19\n",
      "390\n",
      "You can go out to the street.\n"
     ]
    }
   ],
   "source": [
    "userInfo=[]\n",
    "firstName=input(\"Enter your first name:\")\n",
    "lastName=input(\"Enter your last name:\")\n",
    "age=input(\"Enter your age:\")\n",
    "bYear=input(\"Enter your birth year:\")\n",
    "userInfo=[firstName,lastName,age,bYear]\n",
    "\n",
    "for i in range(len(userInfo)):\n",
    "    print(userInfo[i])\n",
    "\n",
    "if int(userInfo[2])<18:\n",
    "    print(\"You can't go out because it's too dangerous.\")\n",
    "else:\n",
    "    print(\"You can go out to the street.\")\n",
    "    "
   ]
  },
  {
   "cell_type": "code",
   "execution_count": null,
   "metadata": {},
   "outputs": [],
   "source": []
  }
 ],
 "metadata": {
  "kernelspec": {
   "display_name": "Python 3",
   "language": "python",
   "name": "python3"
  },
  "language_info": {
   "codemirror_mode": {
    "name": "ipython",
    "version": 3
   },
   "file_extension": ".py",
   "mimetype": "text/x-python",
   "name": "python",
   "nbconvert_exporter": "python",
   "pygments_lexer": "ipython3",
   "version": "3.9.1"
  }
 },
 "nbformat": 4,
 "nbformat_minor": 4
}
