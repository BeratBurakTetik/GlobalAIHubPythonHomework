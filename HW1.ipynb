{
 "cells": [
  {
   "cell_type": "code",
   "execution_count": 14,
   "metadata": {},
   "outputs": [
    {
     "name": "stdin",
     "output_type": "stream",
     "text": [
      "Value 0: sadfsdaf\n",
      "Value 1: 234\n",
      "Value 2: sadf\n",
      "Value 3: 23234sdf\n",
      "Value 4: 32\n"
     ]
    },
    {
     "name": "stdout",
     "output_type": "stream",
     "text": [
      "Value 0=sadfsdaf Type=<class 'str'>\n",
      "Value 1=234 Type=<class 'str'>\n",
      "Value 2=sadf Type=<class 'str'>\n",
      "Value 3=23234sdf Type=<class 'str'>\n",
      "Value 4=32 Type=<class 'str'>\n"
     ]
    }
   ],
   "source": [
    "values=[]\n",
    "for i in range(5):\n",
    "    values.append(input(\"Value \"+str(i)+\":\"))\n",
    "    \n",
    "for i in range(5):\n",
    "    print(\"Value \"+str(i)+\"={} Type={}\".format(values[i],type(values[i])))\n",
    "\n"
   ]
  }
 ],
 "metadata": {
  "kernelspec": {
   "display_name": "Python 3",
   "language": "python",
   "name": "python3"
  },
  "language_info": {
   "codemirror_mode": {
    "name": "ipython",
    "version": 3
   },
   "file_extension": ".py",
   "mimetype": "text/x-python",
   "name": "python",
   "nbconvert_exporter": "python",
   "pygments_lexer": "ipython3",
   "version": "3.9.1"
  }
 },
 "nbformat": 4,
 "nbformat_minor": 4
}
