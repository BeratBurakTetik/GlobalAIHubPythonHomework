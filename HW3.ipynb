{
 "cells": [
  {
   "cell_type": "code",
   "execution_count": 2,
   "metadata": {},
   "outputs": [
    {
     "name": "stdin",
     "output_type": "stream",
     "text": [
      "Enter your name: Berat\n"
     ]
    },
    {
     "name": "stdout",
     "output_type": "stream",
     "text": [
      "Welcome Berat\n",
      "Guess the word.\n",
      "_\n",
      "_\n",
      "_\n",
      "_\n",
      "_\n"
     ]
    },
    {
     "name": "stdin",
     "output_type": "stream",
     "text": [
      "Your guess: a\n"
     ]
    },
    {
     "name": "stdout",
     "output_type": "stream",
     "text": [
      "a\n",
      "_\n",
      "_\n",
      "_\n",
      "_\n"
     ]
    },
    {
     "name": "stdin",
     "output_type": "stream",
     "text": [
      "Your guess: f\n"
     ]
    },
    {
     "name": "stdout",
     "output_type": "stream",
     "text": [
      "Rights remained 4\n"
     ]
    },
    {
     "name": "stdin",
     "output_type": "stream",
     "text": [
      "Your guess: n\n"
     ]
    },
    {
     "name": "stdout",
     "output_type": "stream",
     "text": [
      "Rights remained 3\n"
     ]
    },
    {
     "name": "stdin",
     "output_type": "stream",
     "text": [
      "Your guess: p\n"
     ]
    },
    {
     "name": "stdout",
     "output_type": "stream",
     "text": [
      "a\n",
      "p\n",
      "p\n",
      "_\n",
      "_\n"
     ]
    },
    {
     "name": "stdin",
     "output_type": "stream",
     "text": [
      "Your guess: l\n"
     ]
    },
    {
     "name": "stdout",
     "output_type": "stream",
     "text": [
      "a\n",
      "p\n",
      "p\n",
      "l\n",
      "_\n"
     ]
    },
    {
     "name": "stdin",
     "output_type": "stream",
     "text": [
      "Your guess: e\n"
     ]
    },
    {
     "name": "stdout",
     "output_type": "stream",
     "text": [
      "a\n",
      "p\n",
      "p\n",
      "l\n",
      "e\n",
      "You won.\n"
     ]
    }
   ],
   "source": [
    "import random as rand\n",
    "words=[[\"a\",\"p\",\"p\",\"l\",\"e\"],[\"b\",\"a\",\"n\",\"a\",\"n\",\"a\"],[\"o\",\"r\",\"a\",\"n\",\"g\",\"e\"],[\"s\",\"t\",\"r\",\"a\",\"w\",\"b\",\"e\",\"r\",\"r\",\"y\"],[\"m\",\"e\",\"l\",\"o\",\"n\"],[\"g\",\"r\",\"a\",\"p\",\"e\"],[\"p\",\"e\",\"a\",\"r\"],[\"m\",\"a\",\"n\",\"g\",\"o\"],[\"t\",\"a\",\"n\",\"g\",\"e\",\"r\",\"i\",\"n\",\"e\"],[\"a\",\"n\",\"a\",\"n\",\"a\",\"s\"]]\n",
    "word=words[rand.randint(0,9)]\n",
    "guess=[]\n",
    "userName=input(\"Enter your name:\")\n",
    "lettersGuessed=[]\n",
    "rights=5\n",
    "print(\"Welcome \"+userName)\n",
    "description=\"You have 5 rights to guess the fruit.\"\n",
    "\n",
    "print(\"Guess the word.\")\n",
    "for i in range(len(word)):\n",
    "    guess.append(\"_\")\n",
    "for i in range(len(word)):\n",
    "    print(guess[i])\n",
    "    \n",
    "\n",
    "while(rights>0):\n",
    "    letter=input(\"Your guess:\")\n",
    "    if letter not in lettersGuessed:\n",
    "        lettersGuessed.append(letter)\n",
    "        if letter in word:\n",
    "            for i in range(len(word)):\n",
    "                if word[i]==letter:\n",
    "                    guess[i]=letter\n",
    "            for i in range(len(word)):\n",
    "                print(guess[i])\n",
    "            if guess==word:\n",
    "                print(\"You won.\")\n",
    "                break\n",
    "        else:\n",
    "            rights=rights-1\n",
    "            if rights<=0:\n",
    "                print(\"You lost.\")\n",
    "                break\n",
    "            else:\n",
    "                print(\"Rights remained \"+ str(rights))\n",
    "    else:\n",
    "        print(\"You have already entered this letter.\")"
   ]
  },
  {
   "cell_type": "code",
   "execution_count": null,
   "metadata": {},
   "outputs": [],
   "source": []
  }
 ],
 "metadata": {
  "kernelspec": {
   "display_name": "Python 3",
   "language": "python",
   "name": "python3"
  },
  "language_info": {
   "codemirror_mode": {
    "name": "ipython",
    "version": 3
   },
   "file_extension": ".py",
   "mimetype": "text/x-python",
   "name": "python",
   "nbconvert_exporter": "python",
   "pygments_lexer": "ipython3",
   "version": "3.9.1"
  }
 },
 "nbformat": 4,
 "nbformat_minor": 4
}
